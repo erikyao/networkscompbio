{
 "cells": [
  {
   "cell_type": "markdown",
   "metadata": {},
   "source": [
    "# CS446/519 Class Session 5 - Exercise\n",
    "## Exploring the running time for testing if there is an edge between a pair of vertices"
   ]
  },
  {
   "cell_type": "markdown",
   "metadata": {},
   "source": [
    "In this exercise, we'll compare the asymptotic computational running time for testing if there is an edge between a pair of vertices, averaged over all the vertices in the graph. We'll do it for an undirected graph (Barabasi-Albert model) with an average vertex degree that will be fixed for a given graph but that we will vary. The  number of vertices of the graph will be fixed at 1000."
   ]
  },
  {
   "cell_type": "markdown",
   "metadata": {},
   "source": [
    "We'll need the \"bintrees\" package in order to get an implementation of a binary search tree (AVLTree is the class that we will use)."
   ]
  },
  {
   "cell_type": "code",
   "execution_count": 1,
   "metadata": {
    "collapsed": false
   },
   "outputs": [],
   "source": [
    "import numpy as np\n",
    "import igraph\n",
    "import timeit\n",
    "import itertools\n",
    "import bintrees "
   ]
  },
  {
   "cell_type": "markdown",
   "metadata": {},
   "source": [
    "The next four functions show how to test whether a given pair of vertices has an edge between them:"
   ]
  },
  {
   "cell_type": "code",
   "execution_count": 2,
   "metadata": {
    "collapsed": true
   },
   "outputs": [],
   "source": [
    "def find_matrix(gmat, i, j):\n",
    "    return (gmat[i,j] == 1)"
   ]
  },
  {
   "cell_type": "code",
   "execution_count": 3,
   "metadata": {
    "collapsed": true
   },
   "outputs": [],
   "source": [
    "def find_adj_list(adj_list, i, j):\n",
    "    return j in adj_list[i]"
   ]
  },
  {
   "cell_type": "code",
   "execution_count": 4,
   "metadata": {
    "collapsed": true
   },
   "outputs": [],
   "source": [
    "def find_edge_list(edge_list, i, j):\n",
    "    inds1 = np.where(edge_list[:,0] == i)[0]\n",
    "    elems1 = edge_list[inds1, 1].tolist()\n",
    "    inds2 = np.where(edge_list[:,1] == i)[0]\n",
    "    elems2 = edge_list[inds2, 0].tolist()\n",
    "    return j in (elems1 + elems2)"
   ]
  },
  {
   "cell_type": "code",
   "execution_count": 5,
   "metadata": {
    "collapsed": true
   },
   "outputs": [],
   "source": [
    "def find_bst_forest(bst_forest, i, j):\n",
    "    return bst_forest[i].__contains__(j)"
   ]
  },
  {
   "cell_type": "markdown",
   "metadata": {},
   "source": [
    "This function takes a graph in adjacency list format and makes an \"adjacency forest\" data structure."
   ]
  },
  {
   "cell_type": "code",
   "execution_count": 8,
   "metadata": {
    "collapsed": true
   },
   "outputs": [],
   "source": [
    "def get_bst_forest(theadjlist):\n",
    "    g_adj_list = theadjlist\n",
    "    n = len(g_adj_list)\n",
    "    theforest = []\n",
    "    for i in range(0,n):        \n",
    "        itree = bintrees.AVLTree()\n",
    "        for j in g_adj_list[i]:\n",
    "            itree.insert(j,1)\n",
    "        theforest.append(itree)\n",
    "    return theforest"
   ]
  },
  {
   "cell_type": "markdown",
   "metadata": {},
   "source": [
    "Here is the code to run the simulation (generate the graph and obtain timing statistics). To keep the code running time reasonable, I decided to only compare the running times for the \"adjacency list\" and \"adjacency forest\" (aka \"adjacency trees\") graph data structures.  The parameter \"n\" is the number of vertices (fixed at 1000) and the parameter \"k\" is the average vertex degree (which we will vary in this exercise). For speed, I have turned off replication (by setting nrep=1 and nsubrep=1), but you can try it with larger values of nrep to see if the results hold up (I expect they will):"
   ]
  },
  {
   "cell_type": "code",
   "execution_count": 9,
   "metadata": {
    "collapsed": false
   },
   "outputs": [],
   "source": [
    "def do_sim(n, k):\n",
    "\n",
    "    retlist = []\n",
    "    \n",
    "    nrep = 1\n",
    "    nsubrep = 1\n",
    "    \n",
    "    for _ in itertools.repeat(None, nrep):\n",
    "      \n",
    "        # make the random undirected graph\n",
    "        g = igraph.Graph.Barabasi(n, k)\n",
    "        \n",
    "        # get the graph in three different representations\n",
    "        g_adj_list = g.get_adjlist()\n",
    "        \n",
    "        g_bst_forest = get_bst_forest(g_adj_list)\n",
    "        \n",
    "        start_time = timeit.default_timer()\n",
    "        \n",
    "        # inner loop only needs to go from i+1 to n, since the graph is undirected        \n",
    "        for _ in itertools.repeat(None, nsubrep):\n",
    "            for i in range(0, n):\n",
    "                for j in range(i+1, n):\n",
    "                    find_adj_list(g_adj_list, i, j)     \n",
    "        \n",
    "        adjlist_elapsed = timeit.default_timer() - start_time\n",
    "            \n",
    "        start_time = timeit.default_timer()\n",
    "        \n",
    "        # inner loop only needs to go from i+1 to n, since the graph is undirected\n",
    "        for _ in itertools.repeat(None, nsubrep):\n",
    "            for i in range(0, n):\n",
    "                for j in range(i+1, n):\n",
    "                    j in g_bst_forest[i]\n",
    "                    \n",
    "        forest_elapsed = timeit.default_timer() - start_time\n",
    "        \n",
    "        retlist.append([adjlist_elapsed, forest_elapsed])\n",
    "\n",
    "        # get the results in microseconds, and make sure to divide by number of vertex pairs\n",
    "    return 1000000*np.mean(np.array(retlist), axis=0)/(n*(n-1)/2)"
   ]
  },
  {
   "cell_type": "markdown",
   "metadata": {},
   "source": [
    "Compare the results for differing average degree (i.e., k) values.  At k=50, the \"adjacency forest\" method (aka \"adjacency tree\" method) is a bit faster than the adjacency list method. By k=100, the \"adjacency forest\" method is substantially faster than the \"adjacency list\" method."
   ]
  },
  {
   "cell_type": "code",
   "execution_count": 10,
   "metadata": {
    "collapsed": false
   },
   "outputs": [
    {
     "data": {
      "text/plain": [
       "array([ 0.3204156 ,  1.16994051])"
      ]
     },
     "execution_count": 10,
     "metadata": {},
     "output_type": "execute_result"
    }
   ],
   "source": [
    "do_sim(1000,5)"
   ]
  },
  {
   "cell_type": "code",
   "execution_count": 11,
   "metadata": {
    "collapsed": false
   },
   "outputs": [
    {
     "data": {
      "text/plain": [
       "array([ 0.51273477,  1.26613626])"
      ]
     },
     "execution_count": 11,
     "metadata": {},
     "output_type": "execute_result"
    }
   ],
   "source": [
    "do_sim(1000,10)"
   ]
  },
  {
   "cell_type": "code",
   "execution_count": 12,
   "metadata": {
    "collapsed": false
   },
   "outputs": [
    {
     "data": {
      "text/plain": [
       "array([ 0.873007  ,  1.38149768])"
      ]
     },
     "execution_count": 12,
     "metadata": {},
     "output_type": "execute_result"
    }
   ],
   "source": [
    "do_sim(1000,20)"
   ]
  },
  {
   "cell_type": "code",
   "execution_count": 13,
   "metadata": {
    "collapsed": false
   },
   "outputs": [
    {
     "data": {
      "text/plain": [
       "array([ 1.83869825,  1.50265984])"
      ]
     },
     "execution_count": 13,
     "metadata": {},
     "output_type": "execute_result"
    }
   ],
   "source": [
    "do_sim(1000,50)"
   ]
  },
  {
   "cell_type": "code",
   "execution_count": 14,
   "metadata": {
    "collapsed": false
   },
   "outputs": [
    {
     "data": {
      "text/plain": [
       "array([ 3.19050297,  1.56077285])"
      ]
     },
     "execution_count": 14,
     "metadata": {},
     "output_type": "execute_result"
    }
   ],
   "source": [
    "do_sim(1000,100)"
   ]
  }
 ],
 "metadata": {
  "kernelspec": {
   "display_name": "Python 3",
   "language": "python",
   "name": "python3"
  },
  "language_info": {
   "codemirror_mode": {
    "name": "ipython",
    "version": 3
   },
   "file_extension": ".py",
   "mimetype": "text/x-python",
   "name": "python",
   "nbconvert_exporter": "python",
   "pygments_lexer": "ipython3",
   "version": "3.4.3"
  }
 },
 "nbformat": 4,
 "nbformat_minor": 1
}
