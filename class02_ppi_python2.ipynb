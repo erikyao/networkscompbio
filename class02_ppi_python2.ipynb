{
 "cells": [
  {
   "cell_type": "code",
   "execution_count": 94,
   "metadata": {
    "collapsed": false
   },
   "outputs": [
    {
     "name": "stdout",
     "output_type": "stream",
     "text": [
      "A1BG\tcontrols-expression-of\tA2M\n",
      "\n",
      "A1BG\tinteracts-with\tABCC6\n",
      "\n",
      "A1BG\tcontrols-phosphorylation-of\tAKT1\n",
      "\n",
      "A1BG\tcontrols-state-change-of\tAKT1\n",
      "\n",
      "A1BG\tinteracts-with\tANXA7\n",
      "\n",
      "A1BG\tinteracts-with\tCDKN1A\n",
      "\n",
      "6.16754293442\n"
     ]
    }
   ],
   "source": [
    "import urllib2\n",
    "import StringIO\n",
    "import gzip\n",
    "import timeit\n",
    "\n",
    "baseURL = \"http://www.pathwaycommons.org/archives/PC2/current/\"\n",
    "filename = \"PathwayCommons.8.All.BINARY_SIF.hgnc.txt.sif.gz\"\n",
    "outFilePath = \"pc.sif\"\n",
    "interaction_types_ppi = set([\"interacts-with\",\"in-complex-with\",\"neighbor-of\"])\n",
    "\n",
    "start_time = timeit.default_timer()\n",
    "\n",
    "# read the compressed SIF data into memory\n",
    "response = urllib2.urlopen(baseURL + filename)\n",
    "compressedFile = StringIO.StringIO(response.read())\n",
    "decompressedFile = gzip.GzipFile(fileobj=compressedFile)\n",
    "\n",
    "# initialize the SIF file interaction counter\n",
    "intctr = 0\n",
    "linectr = 0\n",
    "from collections import defaultdict\n",
    "\n",
    "interactions = set()\n",
    "proteins = set()\n",
    "intnamectr = defaultdict(int)\n",
    "\n",
    "# go through the SIF file data, line by line\n",
    "while True:\n",
    "\n",
    "    line = decompressedFile.readline()\n",
    "    if not line:\n",
    "        break\n",
    "\n",
    "    if linectr < 6:\n",
    "        print line\n",
    "    linectr += 1\n",
    "    \n",
    "    [prot1, interaction_type, prot2] = line.rstrip(\"\\n\").split(\"\\t\")\n",
    "    intnamectr[interaction_type] += 1\n",
    "    if interaction_type in interaction_types_ppi:\n",
    "        intctr += 1\n",
    "        proteins |= set([prot1, prot2])\n",
    "        interactions.add(min(prot1, prot2) + \"-\" + max(prot1, prot2))       \n",
    "        \n",
    "elapsed = timeit.default_timer() - start_time\n",
    "\n",
    "print elapsed"
   ]
  },
  {
   "cell_type": "code",
   "execution_count": 95,
   "metadata": {
    "collapsed": false
   },
   "outputs": [
    {
     "name": "stdout",
     "output_type": "stream",
     "text": [
      "523498\n"
     ]
    }
   ],
   "source": [
    "print intctr"
   ]
  },
  {
   "cell_type": "code",
   "execution_count": 96,
   "metadata": {
    "collapsed": false
   },
   "outputs": [
    {
     "data": {
      "text/plain": [
       "17020"
      ]
     },
     "execution_count": 96,
     "metadata": {},
     "output_type": "execute_result"
    }
   ],
   "source": [
    "len(proteins)"
   ]
  },
  {
   "cell_type": "code",
   "execution_count": 97,
   "metadata": {
    "collapsed": false
   },
   "outputs": [
    {
     "data": {
      "text/plain": [
       "491784"
      ]
     },
     "execution_count": 97,
     "metadata": {},
     "output_type": "execute_result"
    }
   ],
   "source": [
    "len(interactions)"
   ]
  },
  {
   "cell_type": "code",
   "execution_count": 98,
   "metadata": {
    "collapsed": false
   },
   "outputs": [
    {
     "data": {
      "text/plain": [
       "[('interacts-with', 369895),\n",
       " ('in-complex-with', 153603),\n",
       " ('chemical-affects', 135268),\n",
       " ('catalysis-precedes', 120948),\n",
       " ('controls-expression-of', 110013),\n",
       " ('controls-state-change-of', 106156),\n",
       " ('controls-production-of', 18482),\n",
       " ('consumption-controlled-by', 16816),\n",
       " ('controls-phosphorylation-of', 15636),\n",
       " ('used-to-produce', 13705),\n",
       " ('controls-transport-of', 6960),\n",
       " ('reacts-with', 3607),\n",
       " ('controls-transport-of-chemical', 2847)]"
      ]
     },
     "execution_count": 98,
     "metadata": {},
     "output_type": "execute_result"
    }
   ],
   "source": [
    "from operator import itemgetter\n",
    "sorted(intnamectr.items(), key=itemgetter(1), reverse=True)"
   ]
  },
  {
   "cell_type": "code",
   "execution_count": null,
   "metadata": {
    "collapsed": true
   },
   "outputs": [],
   "source": []
  }
 ],
 "metadata": {
  "kernelspec": {
   "display_name": "Python 2",
   "language": "python",
   "name": "python2"
  },
  "language_info": {
   "codemirror_mode": {
    "name": "ipython",
    "version": 2
   },
   "file_extension": ".py",
   "mimetype": "text/x-python",
   "name": "python",
   "nbconvert_exporter": "python",
   "pygments_lexer": "ipython2",
   "version": "2.7.12"
  }
 },
 "nbformat": 4,
 "nbformat_minor": 1
}
