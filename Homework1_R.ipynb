{
 "cells": [
  {
   "cell_type": "markdown",
   "metadata": {},
   "source": [
    "# CS446/519 Homework 1"
   ]
  },
  {
   "cell_type": "markdown",
   "metadata": {},
   "source": [
    "Read in the metabolic network as a directed bipartite graph (hint: use `graph_from_data_frame`)"
   ]
  },
  {
   "cell_type": "code",
   "execution_count": 52,
   "metadata": {
    "collapsed": false
   },
   "outputs": [],
   "source": [
    "library(igraph)\n",
    "bipartite_df <- read.table(\"shared/hsmetnet.txt\",\n",
    "                           sep=\"\\t\",\n",
    "                           quote=\"\",\n",
    "                           header=FALSE,\n",
    "                           comment.char=\"\",\n",
    "                           stringsAsFactors=FALSE)\n",
    "\n",
    "bipartite_graph <- graph_from_data_frame(bipartite_df,\n",
    "                                        directed=TRUE)\n"
   ]
  },
  {
   "cell_type": "markdown",
   "metadata": {},
   "source": [
    "Get the names of all vertices and get a list of indexes of vertices that are metabolites (hint: use `V`, `grep`, and `setdiff`)"
   ]
  },
  {
   "cell_type": "code",
   "execution_count": 53,
   "metadata": {
    "collapsed": false
   },
   "outputs": [],
   "source": [
    "vertex_names <- V(bipartite_graph)\n",
    "N <- length(vertex_names)\n",
    "reaction_inds <- grep(\"REACTION\", vertex_names$name)\n",
    "metabolite_inds <- setdiff(1:N, reaction_inds)"
   ]
  },
  {
   "cell_type": "markdown",
   "metadata": {},
   "source": [
    "How many distinct metabolites are there in the graph? How many reactions? How many edges are there? (hint: use `sprintf`, `length` and `nrow`)"
   ]
  },
  {
   "cell_type": "code",
   "execution_count": 54,
   "metadata": {
    "collapsed": false
   },
   "outputs": [
    {
     "name": "stdout",
     "output_type": "stream",
     "text": [
      "[1] \"Number of metabolites: 2340\"\n",
      "[1] \"Number of reactions: 5539\"\n",
      "[1] \"Number of edges: 19708\"\n"
     ]
    }
   ],
   "source": [
    "print(sprintf(\"Number of metabolites: %d\", length(metabolite_inds)))\n",
    "print(sprintf(\"Number of reactions: %d\", length(reaction_inds)))\n",
    "print(sprintf(\"Number of edges: %d\", nrow(bipartite_df)))"
   ]
  },
  {
   "cell_type": "markdown",
   "metadata": {},
   "source": [
    "What are the top six metabolites in terms of vertex degree in the graph? (hint: use `degree`, `sort`, and `head`)"
   ]
  },
  {
   "cell_type": "code",
   "execution_count": 55,
   "metadata": {
    "collapsed": false
   },
   "outputs": [
    {
     "name": "stdout",
     "output_type": "stream",
     "text": [
      "                                       ATP \n",
      "                                      1202 \n",
      "                                       ADP \n",
      "                                       967 \n",
      "                                 phosphate \n",
      "                                       562 \n",
      "                                   peptide \n",
      "                                       456 \n",
      "[protein] (L-serine/L-threonine) phosphate \n",
      "                                       383 \n",
      "          [protein]-(L-serine/L-threonine) \n",
      "                                       383 \n"
     ]
    }
   ],
   "source": [
    "metabolite_degrees <- degree(bipartite_graph)[metabolite_inds]\n",
    "print(head(sort(metabolite_degrees, decreasing=TRUE)))"
   ]
  },
  {
   "cell_type": "markdown",
   "metadata": {},
   "source": [
    "Plot the distribution of the degrees of these vertices, on log-log scale.  (hint: use `degree_distribution` in igraph)"
   ]
  },
  {
   "cell_type": "code",
   "execution_count": 56,
   "metadata": {
    "collapsed": false
   },
   "outputs": [
    {
     "name": "stderr",
     "output_type": "stream",
     "text": [
      "Warning message in xy.coords(x, y, xlabel, ylabel, log):\n",
      "\"1121 y values <= 0 omitted from logarithmic plot\""
     ]
    },
    {
     "data": {
      "image/png": "[encoded data removed]",
      "text/plain": [
       "plot without title"
      ]
     },
     "metadata": {},
     "output_type": "display_data"
    }
   ],
   "source": [
    "metab_degree_dist <- degree_distribution(bipartite_graph, v=metabolite_inds)\n",
    "plot(metab_degree_dist, log=\"xy\",\n",
    "     xlab=\"degree\",\n",
    "     ylab=\"fraction of metabolites\")"
   ]
  },
  {
   "cell_type": "markdown",
   "metadata": {},
   "source": [
    "Calculate the exponent α of the best-fit power-law (hint: use `power.law.fit` in igraph)"
   ]
  },
  {
   "cell_type": "code",
   "execution_count": 25,
   "metadata": {
    "collapsed": false
   },
   "outputs": [
    {
     "name": "stdout",
     "output_type": "stream",
     "text": [
      "[1] 2.020247\n"
     ]
    }
   ],
   "source": [
    "print(power.law.fit(metabolite_degrees)$alpha)"
   ]
  },
  {
   "cell_type": "markdown",
   "metadata": {},
   "source": [
    "Calculate the shortest-path-length between all pairs of metabolites (vertices) in the directed graph.  (hint: use `clusters` with `mode=weak` to get the giant weakly-connected component; get the component membership IDs for all metablites using the `membership` item of the components object; select metabolites that have component membership==1; then use `shortest.paths` with `mode=all`)"
   ]
  },
  {
   "cell_type": "code",
   "execution_count": 47,
   "metadata": {
    "collapsed": true
   },
   "outputs": [],
   "source": [
    "components <- clusters(bipartite_graph, mode=\"weak\")\n",
    "vertices_giant_component <- which(components$membership == 1)\n",
    "vertices_metabs_giant_component <- intersect(metabolite_inds, vertices_giant_component)\n",
    "\n",
    "metab_dists <- shortest.paths(bipartite_graph, v=vertices_metabs_giant_component,\n",
    "                              mode=\"all\",\n",
    "                              to=vertices_metabs_giant_component)"
   ]
  },
  {
   "cell_type": "markdown",
   "metadata": {},
   "source": [
    "Calculate the average of the shortest-path-length between all pairs of metabolites in the giant (weakly connected) component of the network, by throwing away any shortest-paths distance value if it is infinite. "
   ]
  },
  {
   "cell_type": "code",
   "execution_count": 48,
   "metadata": {
    "collapsed": false
   },
   "outputs": [
    {
     "name": "stdout",
     "output_type": "stream",
     "text": [
      "[1] 6.799288\n"
     ]
    }
   ],
   "source": [
    "print(mean(metab_dists[metab_dists > 0 & metab_dists < Inf]))"
   ]
  },
  {
   "cell_type": "markdown",
   "metadata": {},
   "source": [
    "Calculate the maximum of the shortest-path-length between all pairs of metabolites (throwing away infinite values, as before) in the giant (weakly connected) component of the network (i.e., you are calculating the diameter of the giant component)."
   ]
  },
  {
   "cell_type": "code",
   "execution_count": 49,
   "metadata": {
    "collapsed": false
   },
   "outputs": [
    {
     "name": "stdout",
     "output_type": "stream",
     "text": [
      "[1] 18\n"
     ]
    }
   ],
   "source": [
    "print(max(metab_dists[metab_dists > 0 & metab_dists < Inf]))"
   ]
  },
  {
   "cell_type": "markdown",
   "metadata": {},
   "source": [
    "Calculate the shortest-paths betweenness centrality for all metabolites in the network. Make sure you compute betweenness centrality only for metabolite vertices, and on the directed graph. (hint: use the `betweenness` function with the `v=<vector of vertex indices>` option)"
   ]
  },
  {
   "cell_type": "code",
   "execution_count": 35,
   "metadata": {
    "collapsed": false
   },
   "outputs": [],
   "source": [
    "Nmetab <- length(metabolite_inds)\n",
    "bc <- betweenness(bipartite_graph, v=metabolite_inds)/((Nmetab-1)*(Nmetab-2))"
   ]
  },
  {
   "cell_type": "markdown",
   "metadata": {},
   "source": [
    "plot the scatter plot of betweenness centrality vs. vertex degree for all metabolites, on log-log scale."
   ]
  },
  {
   "cell_type": "code",
   "execution_count": 51,
   "metadata": {
    "collapsed": false
   },
   "outputs": [
    {
     "name": "stderr",
     "output_type": "stream",
     "text": [
      "Warning message in xy.coords(x, y, xlabel, ylabel, log):\n",
      "\"1586 y values <= 0 omitted from logarithmic plot\""
     ]
    },
    {
     "data": {
      "image/png": "[encoded data removed]",
      "text/plain": [
       "plot without title"
      ]
     },
     "metadata": {},
     "output_type": "display_data"
    }
   ],
   "source": [
    "plot(metabolite_degrees, bc, log=\"xy\",\n",
    "     xlab=\"degree\",\n",
    "     ylab=\"betweenness centrality\", cex=0.2)"
   ]
  },
  {
   "cell_type": "markdown",
   "metadata": {},
   "source": [
    "Among metabolites with degree k=2 , what metabolite has highest betweenness centrality in the network? (hint:  use `sort` and `head`)"
   ]
  },
  {
   "cell_type": "code",
   "execution_count": 50,
   "metadata": {
    "collapsed": false
   },
   "outputs": [
    {
     "name": "stdout",
     "output_type": "stream",
     "text": [
      "L-arginino-succinate \n",
      "          0.01794253 \n"
     ]
    }
   ],
   "source": [
    "print(head(sort(bc[metabolite_degrees==2],decreasing=TRUE), n=1))"
   ]
  }
 ],
 "metadata": {
  "kernelspec": {
   "display_name": "R",
   "language": "R",
   "name": "ir"
  },
  "language_info": {
   "codemirror_mode": "r",
   "file_extension": ".r",
   "mimetype": "text/x-r-source",
   "name": "R",
   "pygments_lexer": "r",
   "version": "3.2.2"
  }
 },
 "nbformat": 4,
 "nbformat_minor": 1
}
