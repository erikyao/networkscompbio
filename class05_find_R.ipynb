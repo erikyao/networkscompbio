{
 "cells": [
  {
   "cell_type": "markdown",
   "metadata": {},
   "source": [
    "# Class Session 5 Exercise:\n",
    "## Comparing asymptotic running time for testing two vertices for an edge"
   ]
  },
  {
   "cell_type": "markdown",
   "metadata": {},
   "source": [
    "We will measure the running time for testing whether two vertices (i and j) have an edge between them, for three different data structures for representing the graph:\n",
    "    adjacency matrix\n",
    "    adjacency list\n",
    "    adjacency forest (aka adjacency tree)\n",
    "    \n",
    "First, we import all the R packages that we will need for this exercise:"
   ]
  },
  {
   "cell_type": "code",
   "execution_count": 66,
   "metadata": {
    "collapsed": false
   },
   "outputs": [],
   "source": [
    "library(igraph)"
   ]
  },
  {
   "cell_type": "markdown",
   "metadata": {},
   "source": [
    "We'll define a function that can make an \"adjacency forest\" (aka adjacency tree) from the adjacency list for a graph:\n",
    "\n",
    "### BUGFIX from 2016.10.05:  you have to call \"as.vector\" on adj_list[[i]], and you have to return \"myforest\" at the end of the function"
   ]
  },
  {
   "cell_type": "code",
   "execution_count": 67,
   "metadata": {
    "collapsed": false
   },
   "outputs": [],
   "source": [
    "get_adj_tree <- function(adj_list) {\n",
    "    n <- length(adj_list)\n",
    "    myforest <- list()\n",
    "    for (i in 1:n) {\n",
    "        newenv <- new.env()\n",
    "        for (j in as.vector(adj_list[[i]])) {\n",
    "            newenv[[as.character(j)]] <- 1\n",
    "        }\n",
    "        myforest[[i]] <- newenv\n",
    "    }\n",
    "    myforest\n",
    "}"
   ]
  },
  {
   "cell_type": "markdown",
   "metadata": {
    "collapsed": true
   },
   "source": [
    "Then, we will define functions for testing whether vertices i and j are neighbors, for each of four different graph data structures (adjacency matrix, adjacency list, edge list, and adjacency tree):"
   ]
  },
  {
   "cell_type": "code",
   "execution_count": 68,
   "metadata": {
    "collapsed": true
   },
   "outputs": [],
   "source": [
    "find_matrix <- function(gmat, i, j) {\n",
    "    gmat[i, j] == 1\n",
    "}\n",
    "\n",
    "find_adj_list <- function(adj_list, i, j) {\n",
    "    j %in% adj_list[[i]]\n",
    "}\n",
    "\n",
    "find_edge_list <- function(edge_list, i, j) {\n",
    "    any((edge_list[,1] == i) & (edge_list[,2] == j)) | \n",
    "        any((edge_list[,2] == i) & (edge_list[,1] == j))\n",
    "} # this function we won't use, since we know it is going to be super slow\n",
    "\n",
    "find_adj_tree <- function(adj_tree, i, jstr) {\n",
    "    ! is.null(adj_tree[[i]][[jstr]])\n",
    "}\n"
   ]
  },
  {
   "cell_type": "markdown",
   "metadata": {},
   "source": [
    "This is the simulation code; note that we now have two parameters, \"n\" and \"k\" (n is the number of vertices in the graph, and k is the average vertex degree.  We'll actually be keeping n fixed and varying k for this exercise."
   ]
  },
  {
   "cell_type": "code",
   "execution_count": 79,
   "metadata": {
    "collapsed": false
   },
   "outputs": [],
   "source": [
    "do_sim <- function(n, k) {\n",
    "\n",
    "    nrep <- 1\n",
    "    nsubrep <- 1\n",
    "    \n",
    "    simdf <- do.call(rbind,\n",
    "                     replicate(nrep, {\n",
    "                         g <- sample_pa(n, out.seq=rep(k, n), directed=FALSE)\n",
    "                         \n",
    "                         g_matrix <- as.matrix(as_adjacency_matrix(g))\n",
    "                         g_adj_list <- as_adj_list(g)\n",
    "                         g_edge_list <- as_edgelist(g)\n",
    "                         g_adj_tree <- get_adj_tree(g_adj_list)\n",
    "                                                 \n",
    "                         # this is for setting up the (admittedly weird) R way of doing a \n",
    "                         # double \"for\" loop (see \"mapply\" below)\n",
    "                         allvals <- expand.grid(1:n, 1:n)\n",
    "                         \n",
    "                         # need this because \"as.character\" is kind of slow\n",
    "                         jstrs <- as.character(1:n)\n",
    "                         \n",
    "                         time_mat <- system.time(\n",
    "                             replicate(nsubrep, {\n",
    "                                 mapply(function(i, j) {\n",
    "                                            find_matrix(g_matrix, i, j)\n",
    "                                        }, allvals$Var1, allvals$Var2)\n",
    "                             })\n",
    "                         )[1]\n",
    "                         \n",
    "                         time_adj_list <- system.time(\n",
    "                             replicate(nsubrep, {\n",
    "                                 mapply(function(i, j) {\n",
    "                                            find_adj_list(g_adj_list, i, jstrs[j])\n",
    "                                        }, allvals$Var1, allvals$Var2)\n",
    "                             })\n",
    "                         )[1]\n",
    "                         \n",
    "                         time_adjacency_forest <- system.time(\n",
    "                             replicate(nsubrep, {\n",
    "                                 mapply(function(i, j) {\n",
    "                                     find_adj_tree(g_adj_tree, i, jstrs[j])\n",
    "                                     }, allvals$Var1, allvals$Var2)\n",
    "                             })                           \n",
    "                         )[1]\n",
    "                         \n",
    "                         rowdf <- data.frame(matrix=time_mat,\n",
    "                                             adjlist=time_adj_list,\n",
    "                                             adjforest=time_adjacency_forest)\n",
    "                         \n",
    "\n",
    "                         rowdf\n",
    "                     }, simplify=FALSE)\n",
    "                     )\n",
    "    \n",
    "    # average over replicates\n",
    "    simres <- apply(simdf, 2, mean)\n",
    "    \n",
    "    # get results in microseconds, on a per-vertex-pair basis\n",
    "    1000000*simres/(n*(n-1)/2)\n",
    "}\n"
   ]
  },
  {
   "cell_type": "markdown",
   "metadata": {},
   "source": [
    "Call the do_sim function for three different values of \"k\" (the average vertex degree), and convert the resulting list (of single-row data frames) to a three-row data frame:"
   ]
  },
  {
   "cell_type": "code",
   "execution_count": 86,
   "metadata": {
    "collapsed": false
   },
   "outputs": [],
   "source": [
    "sim_data_df <- do.call(rbind, lapply(c(1, 5, 10, 100), \n",
    "                                     function(k) {do_sim(1000, k)}))"
   ]
  },
  {
   "cell_type": "code",
   "execution_count": 87,
   "metadata": {
    "collapsed": false,
    "scrolled": true
   },
   "outputs": [
    {
     "data": {
      "text/html": [
       "<table>\n",
       "<thead><tr><th scope=col>matrix</th><th scope=col>adjlist</th><th scope=col>adjforest</th></tr></thead>\n",
       "<tbody>\n",
       "\t<tr><td>11.707708</td><td> 20.54855</td><td> 9.641642</td></tr>\n",
       "\t<tr><td> 9.001001</td><td> 26.37037</td><td> 9.545546</td></tr>\n",
       "\t<tr><td> 9.609610</td><td> 32.36036</td><td>12.324324</td></tr>\n",
       "\t<tr><td>12.668669</td><td>211.56356</td><td>10.978979</td></tr>\n",
       "</tbody>\n",
       "</table>\n"
      ],
      "text/latex": [
       "\\begin{tabular}{lll}\n",
       " matrix & adjlist & adjforest\\\\\n",
       "\\hline\n",
       "\t 11.707708 &  20.54855 &  9.641642\\\\\n",
       "\t  9.001001 &  26.37037 &  9.545546\\\\\n",
       "\t  9.609610 &  32.36036 & 12.324324\\\\\n",
       "\t 12.668669 & 211.56356 & 10.978979\\\\\n",
       "\\end{tabular}\n"
      ],
      "text/markdown": [
       "1. 11.7077077077076\n",
       "2. 9.00100100099937\n",
       "3. 9.60960960960815\n",
       "4. 12.6686686686713\n",
       "5. 20.548548548547\n",
       "6. 26.3703703703713\n",
       "7. 32.3603603603617\n",
       "8. 211.563563563563\n",
       "9. 9.64164164164307\n",
       "10. 9.5455455455456\n",
       "11. 12.324324324326\n",
       "12. 10.9789789789797\n",
       "\n",
       "\n"
      ],
      "text/plain": [
       "     matrix    adjlist   adjforest\n",
       "[1,] 11.707708  20.54855  9.641642\n",
       "[2,]  9.001001  26.37037  9.545546\n",
       "[3,]  9.609610  32.36036 12.324324\n",
       "[4,] 12.668669 211.56356 10.978979"
      ]
     },
     "metadata": {},
     "output_type": "display_data"
    }
   ],
   "source": [
    "sim_data_df"
   ]
  }
 ],
 "metadata": {
  "kernelspec": {
   "display_name": "R",
   "language": "R",
   "name": "ir"
  },
  "language_info": {
   "codemirror_mode": "r",
   "file_extension": ".r",
   "mimetype": "text/x-r-source",
   "name": "R",
   "pygments_lexer": "r",
   "version": "3.2.2"
  }
 },
 "nbformat": 4,
 "nbformat_minor": 1
}
