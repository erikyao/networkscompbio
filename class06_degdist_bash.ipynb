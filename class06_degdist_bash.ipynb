{
 "cells": [
  {
   "cell_type": "code",
   "execution_count": 5,
   "metadata": {
    "collapsed": false
   },
   "outputs": [
    {
     "name": "stdout",
     "output_type": "stream",
     "text": []
    }
   ],
   "source": [
    "# this dosn't really count toward the \"one-liner\"; I just don't want to have to bounce the \n",
    "# JupyterHub server in order to update the LD_LIBRARY_PATH for the bash kernel\n",
    "export LD_LIBRARY_PATH=/usr/local/lib"
   ]
  },
  {
   "cell_type": "code",
   "execution_count": 13,
   "metadata": {
    "collapsed": false
   },
   "outputs": [
    {
     "name": "stdout",
     "output_type": "stream",
     "text": [
      "Could not find/open font when opening font \"arial\", using internal non-scalable font\r\n"
     ]
    },
    {
     "data": {
      "image/png": "[encoded data removed]"
     },
     "metadata": {},
     "output_type": "display_data"
    }
   ],
   "source": [
    "egrep $'\\tinteracts-with\\t|\\tin-complex-with\\t' shared/pathway_commons.sif  | \\\n",
    " cut -f1,3 | \\\n",
    " sed 's/\\t/\\n/g' | \\\n",
    " sort | \\\n",
    " uniq -c | \\\n",
    " sort -k1nr | \\\n",
    " sed 's/^\\s*//g' | \\\n",
    " cut -f1 -d\\  | \\\n",
    " awk '{print int(int($1)/100)}' | \\\n",
    " sort | \\\n",
    " uniq -c | \\\n",
    " awk 'BEGIN { print \"set term png\\nset out\\nplot '\\''<cat'\\''\"} { print $2 \"\\t\" log($1)/log(10)}' | \\\n",
    " /usr/local/bin/gnuplot -p | display"
   ]
  },
  {
   "cell_type": "code",
   "execution_count": null,
   "metadata": {
    "collapsed": true
   },
   "outputs": [],
   "source": []
  }
 ],
 "metadata": {
  "kernelspec": {
   "display_name": "Bash",
   "language": "bash",
   "name": "bash"
  },
  "language_info": {
   "codemirror_mode": "shell",
   "file_extension": ".sh",
   "mimetype": "text/x-sh",
   "name": "bash"
  }
 },
 "nbformat": 4,
 "nbformat_minor": 1
}
