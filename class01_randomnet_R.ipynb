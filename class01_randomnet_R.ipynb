{
 "cells": [
  {
   "cell_type": "code",
   "execution_count": null,
   "metadata": {
    "collapsed": true
   },
   "outputs": [],
   "source": [
    "library(igraph)\n",
    "ba.net <- barabasi.game(100000)\n",
    "ba.net.deg.dist <- degree.distribution(ba.net)\n",
    "ba.net.deg <- degree(ba.net)\n",
    "plot(0:max(ba.net.deg),\n",
    "      ba.net.deg.dist,\n",
    "    type=\"l\",\n",
    "    xlab=expression(k),\n",
    "     ylab=expression(p[k]),\n",
    "     yaxt=\"n\",\n",
    "    log=\"xy\")"
   ]
  },
  {
   "cell_type": "code",
   "execution_count": null,
   "metadata": {
    "collapsed": true
   },
   "outputs": [],
   "source": [
    "ba.net.small <- barabasi.game(100)\n",
    "plot.igraph(ba.net.small, vertex.size=2)"
   ]
  }
 ],
 "metadata": {
  "kernelspec": {
   "display_name": "R",
   "language": "R",
   "name": "ir"
  },
  "language_info": {
   "codemirror_mode": "r",
   "file_extension": ".r",
   "mimetype": "text/x-r-source",
   "name": "R",
   "pygments_lexer": "r",
   "version": "3.2.2"
  }
 },
 "nbformat": 4,
 "nbformat_minor": 1
}
