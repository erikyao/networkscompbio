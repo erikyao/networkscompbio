{
 "cells": [
  {
   "cell_type": "markdown",
   "metadata": {},
   "source": [
    "# CS446/519 - Class Session 6 - Degree Distribution\n",
    "\n",
    "In this class session we are going to plot the degree distribution of the undirected human\n",
    "protein-protein interaction network (PPI), without using `igraph`. We'll obtain the interaction data from the Pathway Commons SIF file (in the `shared/` folder) and we'll \n",
    "manually compute the degree of each vertex (protein) in the network. We'll then compute\n",
    "the count `N(k)` of vertices that have a given vertex degree `k`, for all `k` values.\n",
    "Finally, we'll plot the degree distribution and discuss whether it is consistent with the \n",
    "results obtained in the Jeong et al. article for the yeast PPI."
   ]
  },
  {
   "cell_type": "markdown",
   "metadata": {},
   "source": [
    "Step 1:  load in the SIF file"
   ]
  },
  {
   "cell_type": "code",
   "execution_count": 1,
   "metadata": {
    "collapsed": true
   },
   "outputs": [],
   "source": [
    "sif_data <- read.table(\"shared/pathway_commons.sif\",\n",
    "                       sep=\"\\t\",\n",
    "                       header=FALSE,\n",
    "                       stringsAsFactors=FALSE,\n",
    "                       col.names=c(\"species1\",\n",
    "                                   \"interaction_type\",\n",
    "                                   \"species2\"),\n",
    "                       quote=\"\",\n",
    "                       comment.char=\"\")"
   ]
  },
  {
   "cell_type": "markdown",
   "metadata": {},
   "source": [
    "Step 2:  restrict the interactions to protein-protein undirected (\"in-complex-with\", \"interacts-with\")"
   ]
  },
  {
   "cell_type": "code",
   "execution_count": 2,
   "metadata": {
    "collapsed": true
   },
   "outputs": [],
   "source": [
    "interac_ppi <- sif_data[sif_data$interaction_type %in% c(\"in-complex-with\",\n",
    "                                                         \"interacts-with\"), c(1,3)]"
   ]
  },
  {
   "cell_type": "markdown",
   "metadata": {},
   "source": [
    "Step 3: for each interaction, reorder `species1` and `species2` (if necessary) so that\n",
    "`species1 < species2` (in terms of the species names, in lexicographic order)"
   ]
  },
  {
   "cell_type": "code",
   "execution_count": 3,
   "metadata": {
    "collapsed": true
   },
   "outputs": [],
   "source": [
    "interac_ppi_ordered <- data.frame(species1=interac_ppi[cbind(1:nrow(interac_ppi),\n",
    "                                               ifelse(interac_ppi$species1 < interac_ppi$species2,\n",
    "                                                      1, 2))],\n",
    "                                  species2=interac_ppi[cbind(1:nrow(interac_ppi),\n",
    "                                               ifelse(interac_ppi$species1 < interac_ppi$species2,\n",
    "                                                      2, 1))],\n",
    "                                  stringsAsFactors=FALSE)"
   ]
  },
  {
   "cell_type": "markdown",
   "metadata": {},
   "source": [
    "Step 4: get only the unique interaction pairs of proteins (ignoring the interaction type)"
   ]
  },
  {
   "cell_type": "code",
   "execution_count": 4,
   "metadata": {
    "collapsed": true
   },
   "outputs": [],
   "source": [
    "interac_ppi_unique <- unique(interac_ppi_ordered)"
   ]
  },
  {
   "cell_type": "markdown",
   "metadata": {},
   "source": [
    "Step 5: compute the degree of each vertex (though we will not associate the vertex degrees with vertex names here, since for this exercise we only need the vector of vertex degree values, not the associated vertex IDs)"
   ]
  },
  {
   "cell_type": "code",
   "execution_count": 5,
   "metadata": {
    "collapsed": true
   },
   "outputs": [],
   "source": [
    "vertex_degrees <- rle(sort(c(interac_ppi_unique$species1,\n",
    "                             interac_ppi_unique$species2)))$lengths"
   ]
  },
  {
   "cell_type": "markdown",
   "metadata": {},
   "source": [
    "Step 6: Calculate the histogram of N(k) vs. k, \"suggesting\" 30 bin \"breaks\" (i.e., bin edges) to R; `hist` will actually pick a different number of bins based on its own histogramming algorithm, so we'll find out exactly how many bin breaks that `hist` picked and then we'll call it `nbreaks_actual`, and we'll work with that. "
   ]
  },
  {
   "cell_type": "code",
   "execution_count": 6,
   "metadata": {
    "collapsed": true
   },
   "outputs": [],
   "source": [
    "nbreaks <- 30\n",
    "hist_res <- hist(vertex_degrees, plot=FALSE, nclass=nbreaks)\n",
    "hist_counts <- hist_res$counts\n",
    "hist_breaks <- hist_res$breaks\n",
    "nbreaks_actual <- length(hist_breaks)\n",
    "kvals <- (hist_breaks[1:(nbreaks_actual-1)] + hist_breaks[-1])/2"
   ]
  },
  {
   "cell_type": "markdown",
   "metadata": {},
   "source": [
    "Step 7: Plot `N(k)` vs. `k`, on log-log scale (using only the first 14 points, which is plenty sufficient to see the approximatey scale-free degree distribution and where it becomes exponentially suppressed at high `k`."
   ]
  },
  {
   "cell_type": "code",
   "execution_count": 7,
   "metadata": {
    "collapsed": false
   },
   "outputs": [
    {
     "data": {
      "image/png": "[encoded data removed]",
      "text/plain": [
       "Plot with title \"\""
      ]
     },
     "metadata": {},
     "output_type": "display_data"
    }
   ],
   "source": [
    "plot(kvals[1:14],\n",
    "     hist_counts[1:14],\n",
    "     type=\"p\",\n",
    "     main=\"\",\n",
    "     log=\"xy\",\n",
    "     xlab=expression(k),\n",
    "     ylab=expression(N[k]))"
   ]
  },
  {
   "cell_type": "markdown",
   "metadata": {},
   "source": [
    "Step 8:  Do a linear fit to the log10(N(k)) vs. log10(k) data (just over the range in which the relationship appears to be linear, which is the first five poitns)"
   ]
  },
  {
   "cell_type": "code",
   "execution_count": 16,
   "metadata": {
    "collapsed": false
   },
   "outputs": [
    {
     "data": {
      "text/plain": [
       "\n",
       "Call:\n",
       "lm(formula = log10Nk ~ log10k, data = degdist_df)\n",
       "\n",
       "Residuals:\n",
       "       1        2        3        4        5 \n",
       "-0.02811  0.03484  0.05842 -0.04317 -0.02197 \n",
       "\n",
       "Coefficients:\n",
       "            Estimate Std. Error t value Pr(>|t|)    \n",
       "(Intercept)  7.84266    0.15619   50.21 1.74e-05 ***\n",
       "log10k      -2.15214    0.06736  -31.95 6.74e-05 ***\n",
       "---\n",
       "Signif. codes:  0 '***' 0.001 '**' 0.01 '*' 0.05 '.' 0.1 ' ' 1\n",
       "\n",
       "Residual standard error: 0.05087 on 3 degrees of freedom\n",
       "Multiple R-squared:  0.9971,\tAdjusted R-squared:  0.9961 \n",
       "F-statistic:  1021 on 1 and 3 DF,  p-value: 6.738e-05\n"
      ]
     },
     "metadata": {},
     "output_type": "display_data"
    }
   ],
   "source": [
    "# put the data from the linear range, into a data frame \n",
    "degdist_df <- data.frame(log10Nk=log10(hist_counts[1:5]),\n",
    "                         log10k=log10(kvals[1:5]))\n",
    "\n",
    "# linear regression\n",
    "summary(lm(log10Nk ~ log10k, \n",
    "           data=degdist_df))"
   ]
  },
  {
   "cell_type": "markdown",
   "metadata": {},
   "source": [
    "Slope is -2.15 with SE 0.16, i.e., gamma = 2.15 with a 95% CI of about +/- 0.32.\n",
    "\n",
    "Now let's compute the slope for the degree distribution Fig. 1b in the Jeong et al. article, for the yeast PPI.  The change in ordinate over the linear range is about -6.5 in units of natural logarithm. The change in abscissa over the linear range is approximately log(45)-log(2), so we can compute the Jeong et al. slope thus:"
   ]
  },
  {
   "cell_type": "code",
   "execution_count": 17,
   "metadata": {
    "collapsed": false
   },
   "outputs": [
    {
     "data": {
      "text/html": [
       "-2.09"
      ],
      "text/latex": [
       "-2.09"
      ],
      "text/markdown": [
       "-2.09"
      ],
      "text/plain": [
       "[1] -2.09"
      ]
     },
     "metadata": {},
     "output_type": "display_data"
    }
   ],
   "source": [
    "round(-6.5/(log(45)-log(2)), digits=2)"
   ]
  },
  {
   "cell_type": "markdown",
   "metadata": {},
   "source": [
    "That's pretty close to the human PPI slope!"
   ]
  }
 ],
 "metadata": {
  "kernelspec": {
   "display_name": "R",
   "language": "R",
   "name": "ir"
  },
  "language_info": {
   "codemirror_mode": "r",
   "file_extension": ".r",
   "mimetype": "text/x-r-source",
   "name": "R",
   "pygments_lexer": "r",
   "version": "3.2.2"
  }
 },
 "nbformat": 4,
 "nbformat_minor": 1
}
