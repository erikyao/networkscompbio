{
 "cells": [
  {
   "cell_type": "markdown",
   "metadata": {},
   "source": [
    "# CS446/519 - Class Session 7 - Transitivity (Clustering Coefficients)\n",
    "\n",
    "In this class session we are going to compute the local clustering coefficient of all vertices in the undirected human\n",
    "protein-protein interaction network (PPI), in two ways -- first without using `igraph`, and the using `igraph`. We'll obtain the interaction data from the Pathway Commons SIF file (in the `shared/` folder), we'll make an \"adjacency forest\" representation of the network, and we'll manually compute the local clustering coefficient of each vertex (protein) in the network using the \"enumerating neighbor pairs\" method described by Newman. Then we'll run the same algorithm using the `transitivity` function in `igraph`, and we'll compare the results in order to check our work. Grad students:  you should also group vertices by their \"binned\" vertex degree k (bin size 50, total number of bins = 25) and plot the average local clustering coefficient for the vertices within a bin, against the center k value for the bin, on log-log scale (compare to Newman Fig. 8.12)"
   ]
  },
  {
   "cell_type": "markdown",
   "metadata": {},
   "source": [
    "Step 1:  load in the SIF file"
   ]
  },
  {
   "cell_type": "code",
   "execution_count": 2,
   "metadata": {
    "collapsed": true
   },
   "outputs": [],
   "source": [
    "sif_data <- read.table(\"shared/pathway_commons.sif\",\n",
    "                       sep=\"\\t\",\n",
    "                       header=FALSE,\n",
    "                       stringsAsFactors=FALSE,\n",
    "                       col.names=c(\"species1\",\n",
    "                                   \"interaction_type\",\n",
    "                                   \"species2\"),\n",
    "                       quote=\"\",\n",
    "                       comment.char=\"\")"
   ]
  },
  {
   "cell_type": "markdown",
   "metadata": {},
   "source": [
    "Step 2:  restrict the interactions to protein-protein undirected (\"in-complex-with\", \"interacts-with\")"
   ]
  },
  {
   "cell_type": "code",
   "execution_count": 7,
   "metadata": {
    "collapsed": true
   },
   "outputs": [],
   "source": [
    "interac_ppi <- sif_data[sif_data$interaction_type %in% c(\"in-complex-with\",\n",
    "                                                         \"interacts-with\"), c(1,3)]"
   ]
  },
  {
   "cell_type": "markdown",
   "metadata": {},
   "source": [
    "Step 3: restrict the data frame to only the unique interaction pairs of proteins (ignoring the interaction type), and make an igraph graph from the edgelist data frame"
   ]
  },
  {
   "cell_type": "code",
   "execution_count": 8,
   "metadata": {
    "collapsed": false
   },
   "outputs": [],
   "source": [
    "library(igraph)\n",
    "interac_ppi_unique <- unique(interac_ppi)\n",
    "ppi_igraph <- graph_from_data_frame(interac_ppi_unique, directed=FALSE)"
   ]
  },
  {
   "cell_type": "markdown",
   "metadata": {},
   "source": [
    "Step 4: Obtain an adjacency list representation of the graph"
   ]
  },
  {
   "cell_type": "code",
   "execution_count": 9,
   "metadata": {
    "collapsed": true
   },
   "outputs": [],
   "source": [
    "ppi_adj_list <- as_adj_list(ppi_igraph)"
   ]
  },
  {
   "cell_type": "markdown",
   "metadata": {},
   "source": [
    "Step 5: Make an adjacency forest data structure"
   ]
  },
  {
   "cell_type": "code",
   "execution_count": 10,
   "metadata": {
    "collapsed": false
   },
   "outputs": [],
   "source": [
    "get_adj_forest <- function(adj_list) {\n",
    "    n <- length(adj_list)\n",
    "    prot_names <- names(adj_list)\n",
    "    myforest <- new.env()\n",
    "    for (i in 1:n) {\n",
    "        vertex_name <- prot_names[i]\n",
    "        childtree <- new.env()\n",
    "        for (neighbor_protein in names(adj_list[[i]])) {\n",
    "            childtree[[neighbor_protein]] <- 1\n",
    "        }\n",
    "        myforest[[vertex_name]] <- childtree\n",
    "    }\n",
    "    myforest\n",
    "}\n",
    "ppi_adj_forest <- get_adj_forest(ppi_adj_list)"
   ]
  },
  {
   "cell_type": "markdown",
   "metadata": {},
   "source": [
    "Step 6: Compute the local clustering coefficient (Ci) values (do timing on this operation); for any vertex with degree=1, its Ci value can be NA"
   ]
  },
  {
   "cell_type": "code",
   "execution_count": 110,
   "metadata": {
    "collapsed": false
   },
   "outputs": [
    {
     "data": {
      "text/plain": [
       "    user   system  elapsed \n",
       "1636.280    2.576 1638.918 "
      ]
     },
     "metadata": {},
     "output_type": "display_data"
    },
    {
     "data": {
      "text/html": [
       "<dl class=dl-horizontal>\n",
       "\t<dt>A1BG</dt>\n",
       "\t\t<dd>0.105263157894737</dd>\n",
       "\t<dt>A1CF</dt>\n",
       "\t\t<dd>0.230769230769231</dd>\n",
       "\t<dt>A2M</dt>\n",
       "\t\t<dd>0.0693857424626655</dd>\n",
       "\t<dt>A2ML1</dt>\n",
       "\t\t<dd>0</dd>\n",
       "\t<dt>A4GALT</dt>\n",
       "\t\t<dd>0</dd>\n",
       "\t<dt>A4GNT</dt>\n",
       "\t\t<dd>0</dd>\n",
       "</dl>\n"
      ],
      "text/latex": [
       "\\begin{description*}\n",
       "\\item[A1BG] 0.105263157894737\n",
       "\\item[A1CF] 0.230769230769231\n",
       "\\item[A2M] 0.0693857424626655\n",
       "\\item[A2ML1] 0\n",
       "\\item[A4GALT] 0\n",
       "\\item[A4GNT] 0\n",
       "\\end{description*}\n"
      ],
      "text/markdown": [
       "A1BG\n",
       ":   0.105263157894737A1CF\n",
       ":   0.230769230769231A2M\n",
       ":   0.0693857424626655A2ML1\n",
       ":   0A4GALT\n",
       ":   0A4GNT\n",
       ":   0\n",
       "\n"
      ],
      "text/plain": [
       "      A1BG       A1CF        A2M      A2ML1     A4GALT      A4GNT \n",
       "0.10526316 0.23076923 0.06938574 0.00000000 0.00000000 0.00000000 "
      ]
     },
     "metadata": {},
     "output_type": "display_data"
    }
   ],
   "source": [
    "N <- length(ppi_adj_forest)\n",
    "\n",
    "system.time( civals <- sapply(ls(ppi_adj_forest), \n",
    "      function(vertex_name) {\n",
    "          vertex_env <- ppi_adj_forest[[vertex_name]]\n",
    "          neighbors <- ls(vertex_env)\n",
    "          nneighbors <- length(neighbors)\n",
    "          paircount <- sum(na.omit(unlist(apply(expand.grid(neighbors, \n",
    "                                                            neighbors, \n",
    "                                                            stringsAsFactors=FALSE), 1, \n",
    "                                         function(my_pair) {\n",
    "                                              if (my_pair[1]>=my_pair[2]) {\n",
    "                                                  return(NA)\n",
    "                                              }\n",
    "                                                ppi_adj_forest[[my_pair[1]]][[my_pair[2]]]\n",
    "                                         }))))\n",
    "          paircount/(nneighbors*(nneighbors-1)/2)\n",
    "      }))\n",
    "\n",
    "head(civals)"
   ]
  },
  {
   "cell_type": "markdown",
   "metadata": {},
   "source": [
    "Step 7: Calculate the local clustering coefficients using `igraph` (function `transitivity`\n",
    "with option `type=\"undirected\"`), and do timing on the call to `transitivity`)"
   ]
  },
  {
   "cell_type": "code",
   "execution_count": 11,
   "metadata": {
    "collapsed": false
   },
   "outputs": [
    {
     "data": {
      "text/plain": [
       "   user  system elapsed \n",
       "  0.596   0.000   0.593 "
      ]
     },
     "metadata": {},
     "output_type": "display_data"
    }
   ],
   "source": [
    "system.time(civals_igraph <- transitivity(ppi_igraph, type=\"localundirected\", vids=ls(ppi_adj_forest)))"
   ]
  },
  {
   "cell_type": "markdown",
   "metadata": {},
   "source": [
    "\n",
    "Step 8: Compare your Ci values to those that you got from `igraph`, using a scatter plot"
   ]
  },
  {
   "cell_type": "code",
   "execution_count": 130,
   "metadata": {
    "collapsed": false
   },
   "outputs": [
    {
     "data": {
      "image/png": "[encoded data removed]",
      "text/plain": [
       "plot without title"
      ]
     },
     "metadata": {},
     "output_type": "display_data"
    }
   ],
   "source": [
    "plot(civals, civals_igraph, cex=0.1, xlab=expression(C[i]~\"(our code)\"), ylab=expression(C[i]~\"(igraph)\"))"
   ]
  },
  {
   "cell_type": "markdown",
   "metadata": {},
   "source": [
    "Step 9:  scatter plot the average log(Ci) vs. log(k) (i.e., local clustering coefficient vs. vertex degree) for 25 bins of vertex degree, with each bin size being 50 (so we are binning by k, and the bin centers are 50, 100, 150, 200, ...., 1250)"
   ]
  },
  {
   "cell_type": "code",
   "execution_count": 151,
   "metadata": {
    "collapsed": false,
    "scrolled": true
   },
   "outputs": [
    {
     "data": {
      "image/png": "[encoded data removed]",
      "text/plain": [
       "plot without title"
      ]
     },
     "metadata": {},
     "output_type": "display_data"
    }
   ],
   "source": [
    "vertex_degrees <- degree(ppi_igraph)\n",
    "vertex_Ci <- transitivity(ppi_igraph, type=\"localundirected\")\n",
    "kvals <- 1:max(vertex_degrees)\n",
    "avg_Ci_vals <- sapply(1:25, function(kval) {\n",
    "    inds <- which(round(vertex_degrees/50) == kval)\n",
    "    mean(vertex_Ci[inds])\n",
    "})\n",
    "plot(50*(1:25), avg_Ci_vals, log=\"xy\", xlab=expression(k), ylab=expression(C[i]))"
   ]
  },
  {
   "cell_type": "code",
   "execution_count": 13,
   "metadata": {
    "collapsed": false
   },
   "outputs": [
    {
     "data": {
      "text/html": [
       "1201"
      ],
      "text/latex": [
       "1201"
      ],
      "text/markdown": [
       "1201"
      ],
      "text/plain": [
       "[1] 1201"
      ]
     },
     "metadata": {},
     "output_type": "display_data"
    }
   ],
   "source": [
    "length(which(is.na(civals_igraph)))"
   ]
  },
  {
   "cell_type": "code",
   "execution_count": null,
   "metadata": {
    "collapsed": true
   },
   "outputs": [],
   "source": []
  }
 ],
 "metadata": {
  "kernelspec": {
   "display_name": "R",
   "language": "R",
   "name": "ir"
  },
  "language_info": {
   "codemirror_mode": "r",
   "file_extension": ".r",
   "mimetype": "text/x-r-source",
   "name": "R",
   "pygments_lexer": "r",
   "version": "3.2.2"
  }
 },
 "nbformat": 4,
 "nbformat_minor": 1
}
