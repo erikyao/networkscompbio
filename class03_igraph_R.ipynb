{
 "cells": [
  {
   "cell_type": "code",
   "execution_count": 6,
   "metadata": {
    "collapsed": false
   },
   "outputs": [],
   "source": [
    "df <- read.table(\"shared/pathway_commons.sif\",\n",
    "                sep=\"\\t\",\n",
    "                quote=\"\",\n",
    "                comment.char=\"\",\n",
    "                stringsAsFactors=FALSE,\n",
    "                header=FALSE,\n",
    "                col.names=c(\"species1\",\"interaction_type\",\"species2\"))\n"
   ]
  },
  {
   "cell_type": "code",
   "execution_count": 19,
   "metadata": {
    "collapsed": false
   },
   "outputs": [
    {
     "name": "stdout",
     "output_type": "stream",
     "text": [
      "IGRAPH UN-- 17020 523498 -- \n",
      "+ attr: name (v/c), interaction_type (e/c)\n"
     ]
    }
   ],
   "source": [
    "library(igraph)\n",
    "\n",
    "interaction_types_ppi <- c(\"interacts-with\",\n",
    "                           \"in-complex-with\",\n",
    "                           \"neighbor-of\")\n",
    "\n",
    "interaction_types_metab <- c(\"controls-production-of\",\n",
    "                             \"consumption-controlled-by\",\n",
    "                             \"controls-production-of\",\n",
    "                             \"controls-transport-of-chemical\")\n",
    "\n",
    "interaction_types_ppd <- c(\"catalysis-precedes\",\n",
    "                           \"controls-phosphorylation-of\",\n",
    "                           \"controls-state-change-of\",\n",
    "                           \"controls-transport-of\",\n",
    "                           \"controls-expression-of\")"
   ]
  },
  {
   "cell_type": "code",
   "execution_count": 31,
   "metadata": {
    "collapsed": false
   },
   "outputs": [
    {
     "name": "stdout",
     "output_type": "stream",
     "text": [
      "IGRAPH UN-- 17020 523498 -- \n",
      "+ attr: name (v/c), interaction_type (e/c)\n",
      "+ edges (vertex names):\n",
      " [1] A1BG--ABCC6   A1BG--ANXA7   A1BG--CDKN1A  A1BG--CRISP3  A1BG--GDPD1  \n",
      " [6] A1BG--GRB2    A1BG--GRB7    A1BG--HNF4A   A1BG--ONECUT1 A1BG--PIK3CA \n",
      "[11] A1BG--PIK3R1  A1BG--PRDX4   A1BG--PTPN11  A1BG--SETD7   A1BG--SMN1   \n",
      "[16] A1BG--SMN2    A1BG--SNCA    A1BG--SOS1    A1BG--TK1     A1CF--ACBD3  \n",
      "[21] A1CF--ACLY    A1CF--APOBEC1 A1CF--APOBEC1 A1CF--ATF2    A1CF--CELF2  \n",
      "[26] A1CF--CTNNB1  A1CF--E2F1    A1CF--E2F3    A1CF--E2F4    A1CF--FHL3   \n",
      "[31] A1CF--HNF1A   A1CF--HNF4A   A1CF--JUN     A1CF--KAT5    A1CF--KHSRP  \n",
      "[36] A1CF--MBD2    A1CF--MBD3    A1CF--NRF1    A1CF--RBL2    A1CF--REL    \n",
      "+ ... omitted several edges\n"
     ]
    }
   ],
   "source": [
    "graph_ppi <- graph_from_data_frame(df[df$interaction_type %in% interaction_types_ppi,c(1,3,2)],\n",
    "                         directed=FALSE)\n",
    "print(graph_ppi)"
   ]
  },
  {
   "cell_type": "code",
   "execution_count": 32,
   "metadata": {
    "collapsed": false
   },
   "outputs": [
    {
     "name": "stdout",
     "output_type": "stream",
     "text": [
      "IGRAPH DN-- 7620 38145 -- \n",
      "+ attr: name (v/c), interaction_type (e/c)\n",
      "+ edges (vertex names):\n",
      " [1] A4GALT->CHEBI:17659 A4GALT->CHEBI:17950 A4GALT->CHEBI:18307\n",
      " [4] A4GALT->CHEBI:18313 A4GALT->CHEBI:58223 A4GALT->CHEBI:67119\n",
      " [7] A4GNT ->CHEBI:17659 A4GNT ->CHEBI:58223 AAAS  ->CHEBI:1604 \n",
      "[10] AAAS  ->CHEBI:2274  AACS  ->CHEBI:13705 AACS  ->CHEBI:15345\n",
      "[13] AACS  ->CHEBI:17369 AACS  ->CHEBI:18361 AACS  ->CHEBI:29888\n",
      "[16] AACS  ->CHEBI:57286 AACS  ->CHEBI:57287 AACS  ->CHEBI:57288\n",
      "[19] AACS  ->CHEBI:57392 AACS  ->CHEBI:58280 AADAC ->CHEBI:17790\n",
      "[22] AADAC ->CHEBI:40574 AADAC ->CHEBI:4743  AADAC ->CHEBI:85505\n",
      "+ ... omitted several edges\n"
     ]
    }
   ],
   "source": [
    "graph_metab <- graph_from_data_frame(df[df$interaction_type %in% interaction_types_metab, c(1,3,2)],\n",
    "                             directed=TRUE)\n",
    "print(graph_metab)"
   ]
  },
  {
   "cell_type": "code",
   "execution_count": 30,
   "metadata": {
    "collapsed": false
   },
   "outputs": [
    {
     "name": "stdout",
     "output_type": "stream",
     "text": [
      "IGRAPH DN-- 16063 359713 -- \n",
      "+ attr: name (v/c), interaction_type (e/c)\n",
      "IGRAPH DN-- 16063 359713 -- \n",
      "+ attr: name (v/c), interaction_type (e/c)\n",
      "+ edges (vertex names):\n",
      " [1] A1BG  ->A2M      A1BG  ->AKT1     A1BG  ->AKT1     A2M   ->APOA1   \n",
      " [5] A2M   ->CDC42    A2M   ->RAC1     A2M   ->RAC2     A2M   ->RAC3    \n",
      " [9] A2M   ->RHOA     A2M   ->RHOBTB1  A2M   ->RHOBTB2  A2M   ->RHOB    \n",
      "[13] A2M   ->RHOC     A2M   ->RHOD     A2M   ->RHOF     A2M   ->RHOG    \n",
      "[17] A2M   ->RHOH     A2M   ->RHOJ     A2M   ->RHOQ     A2M   ->RHOT1   \n",
      "[21] A2M   ->RHOT2    A2M   ->RHOU     A2M   ->RHOV     A4GALT->ABO     \n",
      "[25] A4GALT->AK3      A4GALT->B3GALNT1 A4GALT->B3GALT1  A4GALT->B3GALT2 \n",
      "[29] A4GALT->B3GALT4  A4GALT->B3GALT5  A4GALT->B3GALT6  A4GALT->B3GAT2  \n",
      "+ ... omitted several edges\n"
     ]
    }
   ],
   "source": [
    "graph_ppd <- graph_from_data_frame(df[df$interaction_type %in% interaction_types_ppd, c(1,3,2)],\n",
    "                             directed=TRUE)\n",
    "print(graph_ppd)"
   ]
  },
  {
   "cell_type": "code",
   "execution_count": null,
   "metadata": {
    "collapsed": true
   },
   "outputs": [],
   "source": []
  }
 ],
 "metadata": {
  "kernelspec": {
   "display_name": "R",
   "language": "R",
   "name": "ir"
  },
  "language_info": {
   "codemirror_mode": "r",
   "file_extension": ".r",
   "mimetype": "text/x-r-source",
   "name": "R",
   "pygments_lexer": "r",
   "version": "3.2.2"
  }
 },
 "nbformat": 4,
 "nbformat_minor": 1
}
