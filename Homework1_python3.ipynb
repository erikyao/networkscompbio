{
 "cells": [
  {
   "cell_type": "markdown",
   "metadata": {},
   "source": [
    "# CS446/519 Homework 1"
   ]
  },
  {
   "cell_type": "markdown",
   "metadata": {},
   "source": [
    "Read in the metabolic network as a directed bipartite graph (hint: use `read_csv` from `pandas`)"
   ]
  },
  {
   "cell_type": "code",
   "execution_count": 221,
   "metadata": {
    "collapsed": true
   },
   "outputs": [],
   "source": [
    "import pandas\n",
    "bipartite_df = pandas.read_csv(\"shared/hsmetnet.txt\",\n",
    "                           sep=\"\\t\",\n",
    "                           names=[\"source\",\"target\"])"
   ]
  },
  {
   "cell_type": "markdown",
   "metadata": {},
   "source": [
    "Get the names of all vertices and get a list of indexes of vertices that are metabolites (hint: use `Graph.TupleList` with `directed=True`; you can use  `.values.tolist()` on the Pandas dataframe"
   ]
  },
  {
   "cell_type": "code",
   "execution_count": 222,
   "metadata": {
    "collapsed": false
   },
   "outputs": [
    {
     "data": {
      "text/plain": [
       "'IGRAPH DN-- 7879 19708 -- \\n+ attr: name (v)'"
      ]
     },
     "execution_count": 222,
     "metadata": {},
     "output_type": "execute_result"
    }
   ],
   "source": [
    "import igraph\n",
    "from igraph import Graph\n",
    "bipartite_graph = Graph.TupleList(bipartite_df[[\"source\",\"target\"]].values.tolist(),\n",
    "                                 directed=True)\n",
    "bipartite_graph.summary()"
   ]
  },
  {
   "cell_type": "markdown",
   "metadata": {},
   "source": [
    "How many distinct metabolites are there in the graph? How many reactions? How many edges are there? (hint: use `in`, `for`, `len`, `str`, `set`, and `shape`)"
   ]
  },
  {
   "cell_type": "code",
   "execution_count": 223,
   "metadata": {
    "collapsed": false
   },
   "outputs": [
    {
     "name": "stdout",
     "output_type": "stream",
     "text": [
      "number of distinct metabolites in the graph: 2340\n",
      "number of distinct reactions in the graph: 5539\n",
      "number of edges in the graph: 19708\n"
     ]
    }
   ],
   "source": [
    "vertex_names = bipartite_graph.vs[\"name\"]\n",
    "reaction_names = [vertex_name for vertex_name in vertex_names if \"REACTION\" in vertex_name]\n",
    "reaction_names_set = set(reaction_names)\n",
    "metabolite_names = [vertex_name for vertex_name in vertex_names if not (vertex_name in reaction_names_set)]\n",
    "print(\"number of distinct metabolites in the graph: \" + str(len(metabolite_names)))\n",
    "print(\"number of distinct reactions in the graph: \" + str(len(reaction_names)))\n",
    "print(\"number of edges in the graph: \" + str(bipartite_df.shape[0]))"
   ]
  },
  {
   "cell_type": "markdown",
   "metadata": {},
   "source": [
    "What are the top six metabolites in terms of vertex degree in the graph? (hint: use `for`, `enumerate`, `sorted` (with `reverse=True`), and `lambda` or `itemgetter`)"
   ]
  },
  {
   "cell_type": "code",
   "execution_count": 224,
   "metadata": {
    "collapsed": false
   },
   "outputs": [
    {
     "data": {
      "text/plain": [
       "['ATP',\n",
       " 'ADP',\n",
       " 'phosphate',\n",
       " 'peptide',\n",
       " '[protein] (L-serine/L-threonine) phosphate',\n",
       " '[protein]-(L-serine/L-threonine)']"
      ]
     },
     "execution_count": 224,
     "metadata": {},
     "output_type": "execute_result"
    }
   ],
   "source": [
    "metabolite_inds = [vertex_names.index(metabolite_name) for metabolite_name in metabolite_names]\n",
    "metabolite_degrees = bipartite_graph.degree(metabolite_inds)\n",
    "sorted_metabolites = [i[0] for i in sorted(enumerate(metabolite_degrees), \n",
    "                          key=lambda x:x[1],\n",
    "                          reverse=True)]\n",
    "[ metabolite_names[metabolite_id] for metabolite_id in sorted_metabolites[0:6]]"
   ]
  },
  {
   "cell_type": "markdown",
   "metadata": {},
   "source": [
    "Plot the distribution of the degrees of these vertices, on log-log scale.  (hint: use `degree_distribution` in igraph, with `vertices=metabolite_inds`; use the `.bins()` method to get the bin counts out; you can use `pylab.plot` to plot)"
   ]
  },
  {
   "cell_type": "code",
   "execution_count": 225,
   "metadata": {
    "collapsed": false
   },
   "outputs": [
    {
     "data": {
      "image/png": "[encoded data removed]",
      "text/plain": [
       "<matplotlib.figure.Figure at 0x7f693bd9d2b0>"
      ]
     },
     "metadata": {},
     "output_type": "display_data"
    }
   ],
   "source": [
    "import matplotlib\n",
    "import pylab\n",
    "import numpy\n",
    "metab_degree_dist = bipartite_graph.degree_distribution(vertices=metabolite_inds)\n",
    "\n",
    "xs, ys = zip(*[(left, count) for left, _, count in metab_degree_dist.bins()])\n",
    "pylab.plot(numpy.log(xs), numpy.log(ys))\n",
    "pylab.show()"
   ]
  },
  {
   "cell_type": "code",
   "execution_count": 237,
   "metadata": {
    "collapsed": false
   },
   "outputs": [
    {
     "data": {
      "text/plain": [
       "igraph.statistics.Histogram"
      ]
     },
     "execution_count": 237,
     "metadata": {},
     "output_type": "execute_result"
    }
   ],
   "source": [
    "type(metab_degree_dist)"
   ]
  },
  {
   "cell_type": "markdown",
   "metadata": {},
   "source": [
    "Calculate the exponent α of the best-fit power-law (hint: use `igraph.statistics.power_law_fit`)"
   ]
  },
  {
   "cell_type": "code",
   "execution_count": 226,
   "metadata": {
    "collapsed": false
   },
   "outputs": [
    {
     "data": {
      "text/plain": [
       "2.020246957603215"
      ]
     },
     "execution_count": 226,
     "metadata": {},
     "output_type": "execute_result"
    }
   ],
   "source": [
    "igraph.statistics.power_law_fit(metabolite_degrees).alpha"
   ]
  },
  {
   "cell_type": "markdown",
   "metadata": {},
   "source": [
    "Calculate the shortest-path-length between all pairs of metabolites (vertices) in the giant weakly connected component of the graph, discarding direction information.  (hint: use `clusters` with `mode=weak` to get the giant weakly-connected component; then use `components.membership` and `enumerate` to get the giant component members; then use `igraph.shortest_distances` with `mode=igraph.ALL`, with\n",
    "`source=<metabolite_vertex_indices>` and `target=<metabolite_vertex_indices>` to get the\n",
    "all-pairs-shortest-paths.)"
   ]
  },
  {
   "cell_type": "code",
   "execution_count": 227,
   "metadata": {
    "collapsed": false
   },
   "outputs": [],
   "source": [
    "components = bipartite_graph.clusters(mode=\"weak\")\n",
    "metabolite_inds_giant_component =  [index for index, item in enumerate(components.membership) if item==0 and index in metabolite_inds]"
   ]
  },
  {
   "cell_type": "code",
   "execution_count": 228,
   "metadata": {
    "collapsed": false
   },
   "outputs": [],
   "source": [
    "apsp_distances = bipartite_graph.shortest_paths(source=metabolite_inds_giant_component,\n",
    "                                                target=metabolite_inds_giant_component,\n",
    "                                                mode=igraph.ALL)"
   ]
  },
  {
   "cell_type": "markdown",
   "metadata": {},
   "source": [
    "Calculate the average of the shortest-path-length between all pairs of metabolites in the giant (weakly connected) component of the network, by throwing away any shortest-paths distance value if it is infinite. (hint: Use `numpy.array`, `numpy.isfinite` and `numpy.mean` to get the mean distance.)"
   ]
  },
  {
   "cell_type": "code",
   "execution_count": 229,
   "metadata": {
    "collapsed": false
   },
   "outputs": [
    {
     "data": {
      "text/plain": [
       "6.7992876630967602"
      ]
     },
     "execution_count": 229,
     "metadata": {},
     "output_type": "execute_result"
    }
   ],
   "source": [
    "apsp_np = numpy.array([item for sublist in apsp_distances for item in sublist])\n",
    "numpy.mean(apsp_np[apsp_np > 0 & numpy.isfinite(apsp_np)])"
   ]
  },
  {
   "cell_type": "markdown",
   "metadata": {},
   "source": [
    "Calculate the maximum of the shortest-path-length between all pairs of metabolites (throwing away infinite values, as before) in the giant (weakly connected) component of the network (i.e., you are calculating the diameter of the giant component). (hint: use `numpy.max` and `numpy.isfinite`)"
   ]
  },
  {
   "cell_type": "code",
   "execution_count": 230,
   "metadata": {
    "collapsed": false
   },
   "outputs": [
    {
     "data": {
      "text/plain": [
       "18"
      ]
     },
     "execution_count": 230,
     "metadata": {},
     "output_type": "execute_result"
    }
   ],
   "source": [
    "numpy.max(apsp_np[apsp_np > 0 & numpy.isfinite(apsp_np)])"
   ]
  },
  {
   "cell_type": "markdown",
   "metadata": {},
   "source": [
    "Calculate the shortest-paths betweenness centrality for all metabolites in the directed network.  (hint: use the `betweenness` function with the `v=<vector of vertex indices>` option, with `directed=True`)"
   ]
  },
  {
   "cell_type": "code",
   "execution_count": 231,
   "metadata": {
    "collapsed": true
   },
   "outputs": [],
   "source": [
    "bc = bipartite_graph.betweenness(vertices=metabolite_inds, directed=True)"
   ]
  },
  {
   "cell_type": "markdown",
   "metadata": {},
   "source": [
    "plot the scatter plot of betweenness centrality vs. vertex degree for all metabolites, on log-log scale. (hint:  use `numpy.array`, `numpy.where`, and `matplotlib.pyplot.scatter`)"
   ]
  },
  {
   "cell_type": "code",
   "execution_count": 236,
   "metadata": {
    "collapsed": false
   },
   "outputs": [
    {
     "data": {
      "text/plain": [
       "[0,\n",
       " 2,\n",
       " 3,\n",
       " 4,\n",
       " 6,\n",
       " 7,\n",
       " 8,\n",
       " 9,\n",
       " 11,\n",
       " 12,\n",
       " 13,\n",
       " 14,\n",
       " 16,\n",
       " 17,\n",
       " 19,\n",
       " 20,\n",
       " 21,\n",
       " 22,\n",
       " 24,\n",
       " 25,\n",
       " 26,\n",
       " 27,\n",
       " 29,\n",
       " 30,\n",
       " 31,\n",
       " 32,\n",
       " 33,\n",
       " 34,\n",
       " 35,\n",
       " 36,\n",
       " 37,\n",
       " 39,\n",
       " 40,\n",
       " 41,\n",
       " 42,\n",
       " 44,\n",
       " 45,\n",
       " 47,\n",
       " 48,\n",
       " 49,\n",
       " 51,\n",
       " 52,\n",
       " 54,\n",
       " 55,\n",
       " 56,\n",
       " 57,\n",
       " 59,\n",
       " 60,\n",
       " 62,\n",
       " 63,\n",
       " 65,\n",
       " 66,\n",
       " 67,\n",
       " 68,\n",
       " 70,\n",
       " 71,\n",
       " 72,\n",
       " 73,\n",
       " 75,\n",
       " 76,\n",
       " 77,\n",
       " 78,\n",
       " 80,\n",
       " 83,\n",
       " 85,\n",
       " 86,\n",
       " 88,\n",
       " 89,\n",
       " 90,\n",
       " 92,\n",
       " 93,\n",
       " 95,\n",
       " 96,\n",
       " 97,\n",
       " 98,\n",
       " 100,\n",
       " 101,\n",
       " 103,\n",
       " 104,\n",
       " 105,\n",
       " 107,\n",
       " 108,\n",
       " 109,\n",
       " 110,\n",
       " 112,\n",
       " 113,\n",
       " 114,\n",
       " 115,\n",
       " 117,\n",
       " 119,\n",
       " 121,\n",
       " 122,\n",
       " 124,\n",
       " 126,\n",
       " 127,\n",
       " 128,\n",
       " 129,\n",
       " 130,\n",
       " 132,\n",
       " 133]"
      ]
     },
     "execution_count": 236,
     "metadata": {},
     "output_type": "execute_result"
    }
   ],
   "source": [
    "metabolite_inds[0:100]"
   ]
  },
  {
   "cell_type": "code",
   "execution_count": 219,
   "metadata": {
    "collapsed": false
   },
   "outputs": [
    {
     "data": {
      "image/png": "[encoded data removed]",
      "text/plain": [
       "<matplotlib.figure.Figure at 0x7f6940f35208>"
      ]
     },
     "metadata": {},
     "output_type": "display_data"
    }
   ],
   "source": [
    "import matplotlib.pyplot\n",
    "ax = matplotlib.pyplot.gca()\n",
    "ax.set_xscale(\"log\")\n",
    "ax.set_yscale(\"log\")\n",
    "degrees = numpy.array(metabolite_degrees)\n",
    "bcnp = numpy.array(bc)\n",
    "Nmp = len(metabolite_inds)\n",
    "inds_keep = numpy.where(bcnp > 1e-38)\n",
    "ax.scatter(degrees[inds_keep], \n",
    "           bcnp[inds_keep]/((Nmp-1)*(Nmp-2)))\n",
    "matplotlib.pyplot.xlabel(\"degree\")\n",
    "matplotlib.pyplot.ylabel(\"betweenness centrality\")\n",
    "matplotlib.pyplot.show()"
   ]
  },
  {
   "cell_type": "markdown",
   "metadata": {},
   "source": [
    "Among metabolites with degree k=2 , what metabolite has highest betweenness centrality in the network? (hint:  use `numpy.argmax` and `numpy.where`"
   ]
  },
  {
   "cell_type": "code",
   "execution_count": 220,
   "metadata": {
    "collapsed": false
   },
   "outputs": [
    {
     "data": {
      "text/plain": [
       "'L-arginino-succinate'"
      ]
     },
     "execution_count": 220,
     "metadata": {},
     "output_type": "execute_result"
    }
   ],
   "source": [
    "inds_deg2 = numpy.where(degrees==2)[0]\n",
    "metabolite_names[inds_deg2[numpy.argmax(bcnp[inds_deg2])]]"
   ]
  }
 ],
 "metadata": {
  "kernelspec": {
   "display_name": "Python 3",
   "language": "python",
   "name": "python3"
  },
  "language_info": {
   "codemirror_mode": {
    "name": "ipython",
    "version": 3
   },
   "file_extension": ".py",
   "mimetype": "text/x-python",
   "name": "python",
   "nbconvert_exporter": "python",
   "pygments_lexer": "ipython3",
   "version": "3.4.3"
  }
 },
 "nbformat": 4,
 "nbformat_minor": 1
}
